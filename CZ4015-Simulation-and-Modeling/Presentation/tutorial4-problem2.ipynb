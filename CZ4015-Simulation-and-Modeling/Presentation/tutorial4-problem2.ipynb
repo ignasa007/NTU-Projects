{
 "cells": [
  {
   "cell_type": "code",
   "execution_count": 1,
   "metadata": {},
   "outputs": [],
   "source": [
    "import numpy as np\n",
    "from scipy.stats import expon, chi2\n",
    "import pandas as pd\n",
    "import matplotlib as mlp\n",
    "import matplotlib.pyplot as plt\n",
    "\n",
    "mlp.rcParams['font.family'] = 'serif'\n",
    "mlp.rcParams['font.size'] = 16"
   ]
  },
  {
   "cell_type": "code",
   "execution_count": 2,
   "metadata": {},
   "outputs": [],
   "source": [
    "data = [\n",
    "    1.88, 0.54, 1.90, 0.15, 0.02, 2.81, 1.50, 0.53, 2.62, 2.67, \n",
    "    3.53, 0.53, 1.80, 0.79, 0.21, 0.80, 0.26, 0.63, 0.36, 2.03, \n",
    "    1.42, 1.28, 0.82, 2.16, 0.05, 0.04, 1.49, 0.66, 2.03, 1.00, \n",
    "    0.39, 0.34, 0.01, 0.10, 1.10, 0.24, 0.26, 0.45, 0.17, 4.29, \n",
    "    0.80, 5.50, 4.91, 0.35, 0.36, 0.90, 1.03, 1.73, 0.38, 0.48,\n",
    "]\n",
    "n = len(data)\n",
    "# H_0: data is sampled from exp(lamda)\n",
    "lamda = 1/np.mean(data)\n",
    "\n",
    "# number of parameters in exponential\n",
    "s = 1"
   ]
  },
  {
   "cell_type": "code",
   "execution_count": 3,
   "metadata": {},
   "outputs": [],
   "source": [
    "def verify_dist(data, k, s, alpha):\n",
    "    \n",
    "    p = 1/k\n",
    "\n",
    "    theoretical_counts = [n*p for _ in range(k)]\n",
    "    empirical_counts   = [0   for _ in range(k)]\n",
    "    for x in data:\n",
    "        cdf = expon.cdf(x, scale=1/lamda)\n",
    "        empirical_counts[min(int(cdf*k), k-1)] += 1\n",
    "    \n",
    "    # chi-square distribution degrees of freedom\n",
    "    df = k-s-1\n",
    "\n",
    "    # chi-square statistic\n",
    "    statistic = sum((\n",
    "        (N_j - np_j)**2 / np_j\n",
    "        for N_j, np_j in zip(empirical_counts, theoretical_counts)\n",
    "    ))\n",
    "\n",
    "    # percentile point corresponding to test against\n",
    "    pp = chi2.ppf(1-alpha, df)\n",
    "\n",
    "    return statistic, pp"
   ]
  },
  {
   "cell_type": "code",
   "execution_count": 4,
   "metadata": {},
   "outputs": [
    {
     "name": "stdout",
     "output_type": "stream",
     "text": [
      "k = 6:\n",
      "    chi-square statistic = 2.800000\n",
      "    ppf(0.95, df=4) = 9.487729\n",
      "    Failed to reject H_0\n"
     ]
    }
   ],
   "source": [
    "# intervals to split the data into\n",
    "k = 6\n",
    "# chi-square test significance level \n",
    "alpha = 0.05\n",
    "\n",
    "statistic, pp = verify_dist(data, k, s, alpha)\n",
    "\n",
    "tab = '    '\n",
    "print(\n",
    "    f'k = {k}:',\n",
    "    f'chi-square statistic = {statistic:.6f}',\n",
    "    f'ppf({1-alpha}, df={k-s-1}) = {pp:.6f}', \n",
    "    sep=f'\\n{tab}', end=f'\\n{tab}'\n",
    ")\n",
    "if statistic > pp:\n",
    "    print('Reject H_0')\n",
    "else:\n",
    "    print('Failed to reject H_0')"
   ]
  },
  {
   "cell_type": "code",
   "execution_count": 5,
   "metadata": {},
   "outputs": [
    {
     "data": {
      "text/html": [
       "<div>\n",
       "<style scoped>\n",
       "    .dataframe tbody tr th:only-of-type {\n",
       "        vertical-align: middle;\n",
       "    }\n",
       "\n",
       "    .dataframe tbody tr th {\n",
       "        vertical-align: top;\n",
       "    }\n",
       "\n",
       "    .dataframe thead th {\n",
       "        text-align: right;\n",
       "    }\n",
       "</style>\n",
       "<table border=\"1\" class=\"dataframe\">\n",
       "  <thead>\n",
       "    <tr style=\"text-align: right;\">\n",
       "      <th></th>\n",
       "      <th>chi2 statistic</th>\n",
       "      <th>ppf(0.95, df=k-2)</th>\n",
       "      <th>Reject H_0?</th>\n",
       "    </tr>\n",
       "    <tr>\n",
       "      <th>k</th>\n",
       "      <th></th>\n",
       "      <th></th>\n",
       "      <th></th>\n",
       "    </tr>\n",
       "  </thead>\n",
       "  <tbody>\n",
       "    <tr>\n",
       "      <th>5</th>\n",
       "      <td>0.60</td>\n",
       "      <td>7.814728</td>\n",
       "      <td>No</td>\n",
       "    </tr>\n",
       "    <tr>\n",
       "      <th>6</th>\n",
       "      <td>2.80</td>\n",
       "      <td>9.487729</td>\n",
       "      <td>No</td>\n",
       "    </tr>\n",
       "    <tr>\n",
       "      <th>7</th>\n",
       "      <td>1.52</td>\n",
       "      <td>11.070498</td>\n",
       "      <td>No</td>\n",
       "    </tr>\n",
       "    <tr>\n",
       "      <th>8</th>\n",
       "      <td>4.08</td>\n",
       "      <td>12.591587</td>\n",
       "      <td>No</td>\n",
       "    </tr>\n",
       "    <tr>\n",
       "      <th>9</th>\n",
       "      <td>1.84</td>\n",
       "      <td>14.067140</td>\n",
       "      <td>No</td>\n",
       "    </tr>\n",
       "    <tr>\n",
       "      <th>10</th>\n",
       "      <td>2.80</td>\n",
       "      <td>15.507313</td>\n",
       "      <td>No</td>\n",
       "    </tr>\n",
       "  </tbody>\n",
       "</table>\n",
       "</div>"
      ],
      "text/plain": [
       "    chi2 statistic  ppf(0.95, df=k-2) Reject H_0?\n",
       "k                                                \n",
       "5             0.60           7.814728          No\n",
       "6             2.80           9.487729          No\n",
       "7             1.52          11.070498          No\n",
       "8             4.08          12.591587          No\n",
       "9             1.84          14.067140          No\n",
       "10            2.80          15.507313          No"
      ]
     },
     "execution_count": 5,
     "metadata": {},
     "output_type": "execute_result"
    }
   ],
   "source": [
    "ks, statistics, pps = list(), list(), list()\n",
    "\n",
    "for k in range(5, 11):\n",
    "\n",
    "    statistic, pp = verify_dist(data, k, s, alpha)\n",
    "    ks.append(k); statistics.append(statistic); pps.append(pp)\n",
    "\n",
    "df = pd.DataFrame(index=ks, data={\n",
    "    'chi2 statistic': statistics,\n",
    "    f'ppf({1-alpha}, df=k-{s+1})': pps\n",
    "})\n",
    "df.index.rename('k', inplace=True)\n",
    "df.loc[:, 'Reject H_0?'] = ['Yes' if reject else 'No' for reject in df.iloc[:, 0] > df.iloc[:, 1]]\n",
    "\n",
    "df"
   ]
  },
  {
   "cell_type": "code",
   "execution_count": 6,
   "metadata": {},
   "outputs": [
    {
     "data": {
      "image/png": "[encoded data removed]",
      "text/plain": [
       "<Figure size 576x432 with 1 Axes>"
      ]
     },
     "metadata": {
      "needs_background": "light"
     },
     "output_type": "display_data"
    }
   ],
   "source": [
    "plt.figure(figsize=(8,6))\n",
    "plt.plot(ks, statistics, color='b', marker='o', label='Chi2 Statistic')\n",
    "plt.plot(ks, pps, color='g', marker='o', label=f'{int((1-alpha)*100)}th Percentile Point')\n",
    "plt.xlabel('k', labelpad=12)\n",
    "plt.grid()\n",
    "plt.legend()\n",
    "plt.show()"
   ]
  }
 ],
 "metadata": {
  "kernelspec": {
   "display_name": "base",
   "language": "python",
   "name": "python3"
  },
  "language_info": {
   "codemirror_mode": {
    "name": "ipython",
    "version": 3
   },
   "file_extension": ".py",
   "mimetype": "text/x-python",
   "name": "python",
   "nbconvert_exporter": "python",
   "pygments_lexer": "ipython3",
   "version": "3.8.8"
  },
  "orig_nbformat": 4,
  "vscode": {
   "interpreter": {
    "hash": "b1853696905102d237e3f2605605fc3c5f07b08126bcce221792c02da2a07573"
   }
  }
 },
 "nbformat": 4,
 "nbformat_minor": 2
}
