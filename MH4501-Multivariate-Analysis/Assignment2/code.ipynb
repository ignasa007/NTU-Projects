{
 "cells": [
  {
   "cell_type": "code",
   "execution_count": 31,
   "metadata": {},
   "outputs": [],
   "source": [
    "import numpy as np\n",
    "import scipy.stats\n",
    "import pandas as pd"
   ]
  },
  {
   "attachments": {},
   "cell_type": "markdown",
   "metadata": {},
   "source": [
    "## Problem 2"
   ]
  },
  {
   "cell_type": "code",
   "execution_count": 32,
   "metadata": {},
   "outputs": [
    {
     "data": {
      "text/html": [
       "<div>\n",
       "<style scoped>\n",
       "    .dataframe tbody tr th:only-of-type {\n",
       "        vertical-align: middle;\n",
       "    }\n",
       "\n",
       "    .dataframe tbody tr th {\n",
       "        vertical-align: top;\n",
       "    }\n",
       "\n",
       "    .dataframe thead th {\n",
       "        text-align: right;\n",
       "    }\n",
       "</style>\n",
       "<table border=\"1\" class=\"dataframe\">\n",
       "  <thead>\n",
       "    <tr style=\"text-align: right;\">\n",
       "      <th></th>\n",
       "      <th>test1</th>\n",
       "      <th>test2</th>\n",
       "      <th>test3</th>\n",
       "    </tr>\n",
       "  </thead>\n",
       "  <tbody>\n",
       "    <tr>\n",
       "      <th>0</th>\n",
       "      <td>468</td>\n",
       "      <td>41</td>\n",
       "      <td>26</td>\n",
       "    </tr>\n",
       "    <tr>\n",
       "      <th>1</th>\n",
       "      <td>428</td>\n",
       "      <td>39</td>\n",
       "      <td>26</td>\n",
       "    </tr>\n",
       "    <tr>\n",
       "      <th>2</th>\n",
       "      <td>514</td>\n",
       "      <td>53</td>\n",
       "      <td>21</td>\n",
       "    </tr>\n",
       "    <tr>\n",
       "      <th>3</th>\n",
       "      <td>547</td>\n",
       "      <td>67</td>\n",
       "      <td>33</td>\n",
       "    </tr>\n",
       "    <tr>\n",
       "      <th>4</th>\n",
       "      <td>614</td>\n",
       "      <td>61</td>\n",
       "      <td>27</td>\n",
       "    </tr>\n",
       "  </tbody>\n",
       "</table>\n",
       "</div>"
      ],
      "text/plain": [
       "   test1  test2  test3\n",
       "0    468     41     26\n",
       "1    428     39     26\n",
       "2    514     53     21\n",
       "3    547     67     33\n",
       "4    614     61     27"
      ]
     },
     "execution_count": 32,
     "metadata": {},
     "output_type": "execute_result"
    }
   ],
   "source": [
    "df = pd.read_csv(r'data/T5-2.dat', names=['test1', 'test2', 'test3'], sep='\\s+')\n",
    "df.head()"
   ]
  },
  {
   "attachments": {},
   "cell_type": "markdown",
   "metadata": {},
   "source": [
    "### Problem 2 (a)"
   ]
  },
  {
   "cell_type": "code",
   "execution_count": 33,
   "metadata": {},
   "outputs": [
    {
     "name": "stdout",
     "output_type": "stream",
     "text": [
      "n = 87\n",
      "p = 3\n",
      "xbar = [[526.5862069 ]\n",
      " [ 54.68965517]\n",
      " [ 25.12643678]]\n",
      "S = [[5808.05934242  597.83520449  222.02967121]\n",
      " [ 597.83520449  126.05372895   23.38853248]\n",
      " [ 222.02967121   23.38853248   23.11173483]]\n"
     ]
    }
   ],
   "source": [
    "n, p = df.shape\n",
    "xbar = np.mean(df.values, axis=0).reshape(-1, 1)\n",
    "S = np.cov(df.values.T)\n",
    "\n",
    "print(f'{n = }', f'{p = }', f'xbar = {xbar}', f'S = {S}', sep='\\n')"
   ]
  },
  {
   "attachments": {},
   "cell_type": "markdown",
   "metadata": {},
   "source": [
    "### Problem 2 (b)"
   ]
  },
  {
   "cell_type": "code",
   "execution_count": 34,
   "metadata": {},
   "outputs": [
    {
     "name": "stdout",
     "output_type": "stream",
     "text": [
      "T2 = 8.656460\n",
      "f_stat = 2.818382\n",
      "pp = 2.713227\n"
     ]
    }
   ],
   "source": [
    "mu = np.array([525, 52, 25]).reshape(-1, 1)\n",
    "alpha = 0.05\n",
    "\n",
    "T2 = (n * (xbar-mu).T @ np.linalg.inv(S) @ (xbar-mu)).reshape(-1)[0]\n",
    "f_stat = ((n-p)*T2) / ((n-1)*p)\n",
    "\n",
    "pp = scipy.stats.f.ppf(1-alpha, p, n-p)\n",
    "\n",
    "print(f'T2 = {T2:.6f}', f'f_stat = {f_stat:.6f}', f'pp = {pp:.6f}', sep='\\n')"
   ]
  },
  {
   "cell_type": "code",
   "execution_count": 35,
   "metadata": {},
   "outputs": [
    {
     "name": "stdout",
     "output_type": "stream",
     "text": [
      "k = 0.095787\n"
     ]
    }
   ],
   "source": [
    "k = ((n-1)*p*pp) / (n*(n-p))\n",
    "\n",
    "print(f'k = {k:.6f}')"
   ]
  },
  {
   "attachments": {},
   "cell_type": "markdown",
   "metadata": {},
   "source": [
    "### Problem 2 (d)"
   ]
  },
  {
   "cell_type": "code",
   "execution_count": 36,
   "metadata": {},
   "outputs": [
    {
     "name": "stdout",
     "output_type": "stream",
     "text": [
      "Lambda = [[5878.79164939    0.            0.        ]\n",
      " [   0.           63.83509965    0.        ]\n",
      " [   0.            0.           14.59805717]]\n",
      "u = [[-0.99390539 -0.10373153 -0.0373074 ]\n",
      " [-0.10344339  0.99458923 -0.00957782]\n",
      " [-0.03809906  0.00566024  0.99925794]]\n",
      "axes lengths = [23.72999755  2.47276833  1.18250011]\n"
     ]
    }
   ],
   "source": [
    "Lambda, u = np.linalg.eig(S)\n",
    "\n",
    "print(f'Lambda = {np.diag(Lambda)}', f'u = {u}', f'axes lengths = {np.sqrt(k*Lambda)}', sep='\\n')"
   ]
  },
  {
   "attachments": {},
   "cell_type": "markdown",
   "metadata": {},
   "source": [
    "### Problem 2 (e)"
   ]
  },
  {
   "cell_type": "code",
   "execution_count": 37,
   "metadata": {},
   "outputs": [
    {
     "name": "stdout",
     "output_type": "stream",
     "text": [
      "R1 = (506.635889, 546.536524)\n",
      "R2 = (51.750570, 57.628740)\n",
      "R3 = (23.867944, 26.384929)\n"
     ]
    }
   ],
   "source": [
    "alpha_star = alpha/p\n",
    "\n",
    "for i in range(xbar.shape[0]):\n",
    "    center = xbar[i][0]\n",
    "    width = scipy.stats.t.ppf(1-alpha_star/2, n-1) * (S[i, i]/n)**0.5\n",
    "    print(f'R{i+1} = ({center-width:.6f}, {center+width:.6f})')"
   ]
  },
  {
   "attachments": {},
   "cell_type": "markdown",
   "metadata": {},
   "source": [
    "## Problem 3"
   ]
  },
  {
   "attachments": {},
   "cell_type": "markdown",
   "metadata": {},
   "source": [
    "### Problem 3 (a)"
   ]
  },
  {
   "cell_type": "code",
   "execution_count": 38,
   "metadata": {},
   "outputs": [
    {
     "name": "stdout",
     "output_type": "stream",
     "text": [
      "S = [[5808.05934242  222.02967121]\n",
      " [ 222.02967121   23.11173483]]\n",
      "T2 = 0.063446\n",
      "pp = 9.210340\n"
     ]
    }
   ],
   "source": [
    "alpha = 0.01\n",
    "p = 2\n",
    "\n",
    "xbar = np.mean(df.values[:, [0,2]], axis=0).reshape(-1, 1)\n",
    "S = np.cov(df.values[:, [0,2]].T)\n",
    "\n",
    "mu = np.array([525, 25]).reshape(-1, 1)\n",
    "alpha = 0.01\n",
    "\n",
    "T2 = (n * (xbar-mu).T @ np.linalg.inv(S) @ (xbar-mu)).reshape(-1)[0]\n",
    "pp = scipy.stats.chi2.ppf(1-alpha, 2)\n",
    "\n",
    "print(f'S = {S}', f'T2 = {T2:.6f}', f'pp = {pp:.6f}', sep='\\n')"
   ]
  },
  {
   "cell_type": "code",
   "execution_count": 39,
   "metadata": {},
   "outputs": [
    {
     "data": {
      "text/plain": [
       "0.10586598128708254"
      ]
     },
     "execution_count": 39,
     "metadata": {},
     "output_type": "execute_result"
    }
   ],
   "source": [
    "pp / n"
   ]
  },
  {
   "attachments": {},
   "cell_type": "markdown",
   "metadata": {},
   "source": [
    "### Problem 3 (c)"
   ]
  },
  {
   "cell_type": "code",
   "execution_count": 40,
   "metadata": {},
   "outputs": [
    {
     "name": "stdout",
     "output_type": "stream",
     "text": [
      "R1 = (503.650954, 549.521460)\n",
      "R3 = (23.679651, 26.573223)\n"
     ]
    }
   ],
   "source": [
    "alpha_star = alpha/p\n",
    "\n",
    "for i in range(xbar.shape[0]):\n",
    "    center = xbar[i][0]\n",
    "    width = scipy.stats.norm.ppf(1-alpha_star/2) * (S[i, i]/n)**0.5\n",
    "    print(f'R{2*i+1} = ({center-width:.6f}, {center+width:.6f})')"
   ]
  },
  {
   "attachments": {},
   "cell_type": "markdown",
   "metadata": {},
   "source": [
    "## Problem 4"
   ]
  },
  {
   "cell_type": "code",
   "execution_count": 41,
   "metadata": {},
   "outputs": [
    {
     "data": {
      "text/html": [
       "<div>\n",
       "<style scoped>\n",
       "    .dataframe tbody tr th:only-of-type {\n",
       "        vertical-align: middle;\n",
       "    }\n",
       "\n",
       "    .dataframe tbody tr th {\n",
       "        vertical-align: top;\n",
       "    }\n",
       "\n",
       "    .dataframe thead th {\n",
       "        text-align: right;\n",
       "    }\n",
       "</style>\n",
       "<table border=\"1\" class=\"dataframe\">\n",
       "  <thead>\n",
       "    <tr style=\"text-align: right;\">\n",
       "      <th></th>\n",
       "      <th>fuel</th>\n",
       "      <th>repair</th>\n",
       "      <th>capital</th>\n",
       "      <th>type</th>\n",
       "    </tr>\n",
       "  </thead>\n",
       "  <tbody>\n",
       "    <tr>\n",
       "      <th>0</th>\n",
       "      <td>16.44</td>\n",
       "      <td>12.43</td>\n",
       "      <td>11.23</td>\n",
       "      <td>gasoline</td>\n",
       "    </tr>\n",
       "    <tr>\n",
       "      <th>1</th>\n",
       "      <td>7.19</td>\n",
       "      <td>2.70</td>\n",
       "      <td>3.92</td>\n",
       "      <td>gasoline</td>\n",
       "    </tr>\n",
       "    <tr>\n",
       "      <th>2</th>\n",
       "      <td>9.92</td>\n",
       "      <td>1.35</td>\n",
       "      <td>9.75</td>\n",
       "      <td>gasoline</td>\n",
       "    </tr>\n",
       "    <tr>\n",
       "      <th>3</th>\n",
       "      <td>4.24</td>\n",
       "      <td>5.78</td>\n",
       "      <td>7.78</td>\n",
       "      <td>gasoline</td>\n",
       "    </tr>\n",
       "    <tr>\n",
       "      <th>4</th>\n",
       "      <td>11.20</td>\n",
       "      <td>5.05</td>\n",
       "      <td>10.67</td>\n",
       "      <td>gasoline</td>\n",
       "    </tr>\n",
       "  </tbody>\n",
       "</table>\n",
       "</div>"
      ],
      "text/plain": [
       "    fuel  repair  capital      type\n",
       "0  16.44   12.43    11.23  gasoline\n",
       "1   7.19    2.70     3.92  gasoline\n",
       "2   9.92    1.35     9.75  gasoline\n",
       "3   4.24    5.78     7.78  gasoline\n",
       "4  11.20    5.05    10.67  gasoline"
      ]
     },
     "execution_count": 41,
     "metadata": {},
     "output_type": "execute_result"
    }
   ],
   "source": [
    "df = pd.read_csv(r'data/T6-10.dat', names=['fuel', 'repair', 'capital', 'type'], sep='\\s+')\n",
    "df.head()"
   ]
  },
  {
   "attachments": {},
   "cell_type": "markdown",
   "metadata": {},
   "source": [
    "### Problem 4 (a)"
   ]
  },
  {
   "cell_type": "code",
   "execution_count": 42,
   "metadata": {},
   "outputs": [
    {
     "name": "stdout",
     "output_type": "stream",
     "text": [
      "p = 3\n",
      "n_gasoline = 36\n",
      "n_diesel = 23\n"
     ]
    }
   ],
   "source": [
    "df_gasoline = df[df.type == 'gasoline'].drop(columns=['type'])\n",
    "df_diesel = df[df.type == 'diesel'].drop(columns=['type'])\n",
    "\n",
    "p, n_gasoline, n_diesel = df_gasoline.shape[1], df_gasoline.shape[0], df_diesel.shape[0]  \n",
    "\n",
    "print(f'p = {p}', f'n_gasoline = {n_gasoline}', f'n_diesel = {n_diesel}', sep='\\n')"
   ]
  },
  {
   "cell_type": "code",
   "execution_count": 43,
   "metadata": {},
   "outputs": [
    {
     "name": "stdout",
     "output_type": "stream",
     "text": [
      "xbar_gasoline = [[12.21861111]\n",
      " [ 8.1125    ]\n",
      " [ 9.59027778]]\n",
      "xbar_diesel = [[10.10565217]\n",
      " [10.76217391]\n",
      " [18.16782609]]\n"
     ]
    }
   ],
   "source": [
    "xbar_gasoline = np.mean(df_gasoline.values, axis=0).reshape(-1, 1)\n",
    "xbar_diesel = np.mean(df_diesel.values, axis=0).reshape(-1, 1)\n",
    "\n",
    "print(f'xbar_gasoline = {xbar_gasoline}', f'xbar_diesel = {xbar_diesel}', sep='\\n')"
   ]
  },
  {
   "cell_type": "code",
   "execution_count": 44,
   "metadata": {},
   "outputs": [
    {
     "name": "stdout",
     "output_type": "stream",
     "text": [
      "S_gasoline = [[23.01336087 12.366395    2.90660897]\n",
      " [12.366395   17.54411071  4.77308214]\n",
      " [ 2.90660897  4.77308214 13.96333421]]\n",
      "S_diesel = [[ 4.3623166   0.75988715  2.36209921]\n",
      " [ 0.75988715 25.85123597  7.68573221]\n",
      " [ 2.36209921  7.68573221 46.6543996 ]]\n"
     ]
    }
   ],
   "source": [
    "S_gasoline = np.cov(df_gasoline.values.T)\n",
    "S_diesel = np.cov(df_diesel.values.T)\n",
    "\n",
    "print(f'S_gasoline = {S_gasoline}', f'S_diesel = {S_diesel}', sep='\\n')"
   ]
  },
  {
   "cell_type": "code",
   "execution_count": 45,
   "metadata": {},
   "outputs": [
    {
     "name": "stdout",
     "output_type": "stream",
     "text": [
      "S_pool = [[15.81471221  7.88669022  2.69644731]\n",
      " [ 7.88669022 20.75036958  5.89726287]\n",
      " [ 2.69644731  5.89726287 26.5809384 ]]\n"
     ]
    }
   ],
   "source": [
    "S_pool = ((n_gasoline-1)*S_gasoline+(n_diesel-1)*S_diesel) / (n_gasoline+n_diesel-2)\n",
    "print(f'S_pool = {S_pool}')"
   ]
  },
  {
   "cell_type": "code",
   "execution_count": 46,
   "metadata": {},
   "outputs": [
    {
     "name": "stdout",
     "output_type": "stream",
     "text": [
      "T2 = 50.912787\n",
      "f_stat = 12.930960\n"
     ]
    }
   ],
   "source": [
    "alpha = 0.01\n",
    "\n",
    "T2 = ((xbar_gasoline-xbar_diesel).T @ np.linalg.inv(S_pool) @ (xbar_gasoline-xbar_diesel)).reshape(-1)[0] / (1/n_gasoline+1/n_diesel)\n",
    "f_stat = (n_gasoline+n_diesel-2)*p / (n_gasoline+n_diesel-1-p) * scipy.stats.f.ppf(1-alpha, p, n_gasoline+n_diesel-1-p)\n",
    "\n",
    "print(f'T2 = {T2:.6f}', f'f_stat = {f_stat:.6f}', sep='\\n')"
   ]
  },
  {
   "attachments": {},
   "cell_type": "markdown",
   "metadata": {},
   "source": [
    "### Problem 4 (b)"
   ]
  },
  {
   "cell_type": "code",
   "execution_count": 47,
   "metadata": {},
   "outputs": [
    {
     "name": "stdout",
     "output_type": "stream",
     "text": [
      "R1 = (-1.139584, 5.365502)\n",
      "R2 = (-6.375352, 1.076004)\n",
      "R3 = (-12.794295, -4.360802)\n"
     ]
    }
   ],
   "source": [
    "alpha_star = alpha/p\n",
    "\n",
    "for i in range(xbar_gasoline.shape[0]):\n",
    "    center = xbar_gasoline[i, 0] - xbar_diesel[i, 0]\n",
    "    width = scipy.stats.t.ppf(1-alpha_star/2, n_gasoline+n_diesel-2)*((1/n_gasoline+1/n_diesel)*S_pool[i, i])**0.5\n",
    "    print(f'R{i+1} = ({center-width:.6f}, {center+width:.6f})')"
   ]
  },
  {
   "attachments": {},
   "cell_type": "markdown",
   "metadata": {},
   "source": [
    "## Problem 5"
   ]
  },
  {
   "cell_type": "code",
   "execution_count": 48,
   "metadata": {},
   "outputs": [
    {
     "data": {
      "text/html": [
       "<div>\n",
       "<style scoped>\n",
       "    .dataframe tbody tr th:only-of-type {\n",
       "        vertical-align: middle;\n",
       "    }\n",
       "\n",
       "    .dataframe tbody tr th {\n",
       "        vertical-align: top;\n",
       "    }\n",
       "\n",
       "    .dataframe thead th {\n",
       "        text-align: right;\n",
       "    }\n",
       "</style>\n",
       "<table border=\"1\" class=\"dataframe\">\n",
       "  <thead>\n",
       "    <tr style=\"text-align: right;\">\n",
       "      <th></th>\n",
       "      <th>max_breadth</th>\n",
       "      <th>bb_height</th>\n",
       "      <th>bv_length</th>\n",
       "      <th>nasal_height</th>\n",
       "      <th>period</th>\n",
       "    </tr>\n",
       "  </thead>\n",
       "  <tbody>\n",
       "    <tr>\n",
       "      <th>0</th>\n",
       "      <td>131</td>\n",
       "      <td>138</td>\n",
       "      <td>89</td>\n",
       "      <td>49</td>\n",
       "      <td>1</td>\n",
       "    </tr>\n",
       "    <tr>\n",
       "      <th>1</th>\n",
       "      <td>125</td>\n",
       "      <td>131</td>\n",
       "      <td>92</td>\n",
       "      <td>48</td>\n",
       "      <td>1</td>\n",
       "    </tr>\n",
       "    <tr>\n",
       "      <th>2</th>\n",
       "      <td>131</td>\n",
       "      <td>132</td>\n",
       "      <td>99</td>\n",
       "      <td>50</td>\n",
       "      <td>1</td>\n",
       "    </tr>\n",
       "    <tr>\n",
       "      <th>3</th>\n",
       "      <td>119</td>\n",
       "      <td>132</td>\n",
       "      <td>96</td>\n",
       "      <td>44</td>\n",
       "      <td>1</td>\n",
       "    </tr>\n",
       "    <tr>\n",
       "      <th>4</th>\n",
       "      <td>136</td>\n",
       "      <td>143</td>\n",
       "      <td>100</td>\n",
       "      <td>54</td>\n",
       "      <td>1</td>\n",
       "    </tr>\n",
       "  </tbody>\n",
       "</table>\n",
       "</div>"
      ],
      "text/plain": [
       "   max_breadth  bb_height  bv_length  nasal_height  period\n",
       "0          131        138         89            49       1\n",
       "1          125        131         92            48       1\n",
       "2          131        132         99            50       1\n",
       "3          119        132         96            44       1\n",
       "4          136        143        100            54       1"
      ]
     },
     "execution_count": 48,
     "metadata": {},
     "output_type": "execute_result"
    }
   ],
   "source": [
    "df = pd.read_csv(r'data/T6-13.dat', names=['max_breadth', 'bb_height', 'bv_length', 'nasal_height', 'period'], sep='\\s+')\n",
    "df.head()"
   ]
  },
  {
   "cell_type": "code",
   "execution_count": 49,
   "metadata": {},
   "outputs": [
    {
     "name": "stdout",
     "output_type": "stream",
     "text": [
      "p = 4\n",
      "G = 3\n"
     ]
    }
   ],
   "source": [
    "groups = [df[df.period == i].drop(columns=['period']) for i in sorted(pd.unique(df.period).tolist())]\n",
    "p, G = df.shape[1] - 1, len(groups)\n",
    "ns = [group.shape[0] for group in groups]\n",
    "n = sum(ns)\n",
    "\n",
    "print(f'p = {p}', f'G = {G}', sep='\\n')"
   ]
  },
  {
   "cell_type": "code",
   "execution_count": 50,
   "metadata": {},
   "outputs": [
    {
     "name": "stdout",
     "output_type": "stream",
     "text": [
      "xbar = [[132.73333333]\n",
      " [133.36666667]\n",
      " [ 98.08888889]\n",
      " [ 50.44444444]]\n",
      "xbar1 = [[131.36666667]\n",
      " [133.6       ]\n",
      " [ 99.16666667]\n",
      " [ 50.53333333]]\n",
      "xbar2 = [[132.36666667]\n",
      " [132.7       ]\n",
      " [ 99.06666667]\n",
      " [ 50.23333333]]\n",
      "xbar3 = [[134.46666667]\n",
      " [133.8       ]\n",
      " [ 96.03333333]\n",
      " [ 50.56666667]]\n"
     ]
    }
   ],
   "source": [
    "overall_mean = np.mean(df.values[:, :-1], axis=0).reshape(-1, 1)\n",
    "groups_means = [np.mean(group.values, axis=0).reshape(-1, 1) for group in groups]\n",
    "\n",
    "print(f'xbar = {overall_mean}')\n",
    "print(*[f'xbar{i+1} = {groups_means[i]}' for i in range(G)], sep='\\n')"
   ]
  },
  {
   "cell_type": "code",
   "execution_count": 51,
   "metadata": {},
   "outputs": [
    {
     "name": "stdout",
     "output_type": "stream",
     "text": [
      "B = [[ 150.2          20.3        -161.83333333    5.03333333]\n",
      " [  20.3          20.6         -38.73333333    6.43333333]\n",
      " [-161.83333333  -38.73333333  190.28888889  -10.85555556]\n",
      " [   5.03333333    6.43333333  -10.85555556    2.02222222]]\n"
     ]
    }
   ],
   "source": [
    "B = sum([ni * (groupi_mean-overall_mean) @ (groupi_mean-overall_mean).T for ni, groupi_mean in zip(ns, groups_means)])\n",
    "\n",
    "print(f'B = {B}')"
   ]
  },
  {
   "cell_type": "code",
   "execution_count": 52,
   "metadata": {},
   "outputs": [
    {
     "name": "stdout",
     "output_type": "stream",
     "text": [
      "W = [[1785.4         172.5         128.96666667  289.63333333]\n",
      " [ 172.5        1924.3         178.8         171.9       ]\n",
      " [ 128.96666667  178.8        2153.           -1.7       ]\n",
      " [ 289.63333333  171.9          -1.7         840.2       ]]\n",
      "det(W) = 5669247218923.179\n"
     ]
    }
   ],
   "source": [
    "W = sum([(ni-1) * np.cov(groupi.values.T) for ni, groupi in zip(ns, groups)])\n",
    "\n",
    "np.set_printoptions(suppress=True)\n",
    "print(f'W = {W}', f'det(W) = {np.linalg.det(W)}', sep='\\n')"
   ]
  },
  {
   "cell_type": "code",
   "execution_count": 53,
   "metadata": {},
   "outputs": [
    {
     "name": "stdout",
     "output_type": "stream",
     "text": [
      "B+W = [[1935.6         192.8         -32.86666667  294.66666667]\n",
      " [ 192.8        1944.9         140.06666667  178.33333333]\n",
      " [ -32.86666667  140.06666667 2343.28888889  -12.55555556]\n",
      " [ 294.66666667  178.33333333  -12.55555556  842.22222222]]\n",
      "det(B+W) = 6829573414098.414\n"
     ]
    }
   ],
   "source": [
    "B_plus_W = B+W\n",
    "\n",
    "print(f'B+W = {B_plus_W}', f'det(B+W) = {np.linalg.det(B+W)}', sep='\\n')"
   ]
  },
  {
   "cell_type": "code",
   "execution_count": 54,
   "metadata": {},
   "outputs": [
    {
     "name": "stdout",
     "output_type": "stream",
     "text": [
      "stat = 2.049069 pp = 1.993884\n"
     ]
    }
   ],
   "source": [
    "alpha = 0.05\n",
    "\n",
    "Lambda = np.linalg.det(W) / np.linalg.det(B_plus_W)\n",
    "stat = ((sum(ns)-p-2)/(p)) * ((1-Lambda**0.5)/(Lambda**0.5))\n",
    "pp = scipy.stats.f.ppf(1-alpha, 2*p, 2*(sum(ns)-p-2))\n",
    "\n",
    "print(f'stat = {stat:.6f}', f'pp = {pp:.6f}')"
   ]
  },
  {
   "attachments": {},
   "cell_type": "markdown",
   "metadata": {},
   "source": [
    "### Problem 5(b)"
   ]
  },
  {
   "cell_type": "code",
   "execution_count": 55,
   "metadata": {},
   "outputs": [
    {
     "name": "stdout",
     "output_type": "stream",
     "text": [
      "\n",
      "COMPONENT 1\n",
      "\tGroup 1 and Group 2 - R = (-2.442312, 4.442312)\n",
      "\tGroup 1 and Group 3 - R = (-0.342312, 6.542312)\n",
      "\tGroup 2 and Group 3 - R = (-1.342312, 5.542312)\n",
      "\n",
      "COMPONENT 2\n",
      "\tGroup 1 and Group 2 - R = (-4.473706, 2.673706)\n",
      "\tGroup 1 and Group 3 - R = (-3.373706, 3.773706)\n",
      "\tGroup 2 and Group 3 - R = (-2.473706, 4.673706)\n",
      "\n",
      "COMPONENT 3\n",
      "\tGroup 1 and Group 2 - R = (-3.880110, 3.680110)\n",
      "\tGroup 1 and Group 3 - R = (-6.913443, 0.646776)\n",
      "\tGroup 2 and Group 3 - R = (-6.813443, 0.746776)\n",
      "\n",
      "COMPONENT 4\n",
      "\tGroup 1 and Group 2 - R = (-2.661423, 2.061423)\n",
      "\tGroup 1 and Group 3 - R = (-2.328089, 2.394756)\n",
      "\tGroup 2 and Group 3 - R = (-2.028089, 2.694756)\n"
     ]
    }
   ],
   "source": [
    "alpha_star = alpha / (p*G*(G-1)/2)\n",
    "\n",
    "def pairwise_sci(j, k, l):\n",
    "    return groups_means[l][j][0]-groups_means[k][j][0], scipy.stats.t.ppf(1-alpha_star/2, n-G) * ((1/ns[k]+1/ns[l]) * (W[j, j]/(n-G)))**0.5\n",
    "\n",
    "for j in range(p):\n",
    "    print(f'\\nCOMPONENT {j+1}')\n",
    "    for k in range(G):\n",
    "        for l in range(k+1, G):\n",
    "            center, width = pairwise_sci(j, k, l)\n",
    "            print(f'\\tGroup {k+1} and Group {l+1} - R = ({center-width:.6f}, {center+width:.6f})')"
   ]
  }
 ],
 "metadata": {
  "kernelspec": {
   "display_name": "basic_ml",
   "language": "python",
   "name": "python3"
  },
  "language_info": {
   "codemirror_mode": {
    "name": "ipython",
    "version": 3
   },
   "file_extension": ".py",
   "mimetype": "text/x-python",
   "name": "python",
   "nbconvert_exporter": "python",
   "pygments_lexer": "ipython3",
   "version": "3.9.7"
  },
  "orig_nbformat": 4,
  "vscode": {
   "interpreter": {
    "hash": "1d008a77f9c2eb2a5860083988e57d6cca43583c2c8c3ea46723bed0604b4b38"
   }
  }
 },
 "nbformat": 4,
 "nbformat_minor": 2
}
