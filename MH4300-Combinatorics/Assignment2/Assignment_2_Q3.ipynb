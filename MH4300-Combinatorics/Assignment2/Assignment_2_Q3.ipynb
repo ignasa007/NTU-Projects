{
  "nbformat": 4,
  "nbformat_minor": 0,
  "metadata": {
    "colab": {
      "provenance": [],
      "collapsed_sections": []
    },
    "kernelspec": {
      "name": "python3",
      "display_name": "Python 3"
    },
    "language_info": {
      "name": "python"
    }
  },
  "cells": [
    {
      "cell_type": "code",
      "execution_count": 13,
      "metadata": {
        "colab": {
          "base_uri": "https://localhost:8080/"
        },
        "id": "-bJ_JmGZs_mg",
        "outputId": "f20e0df4-d0b5-4b89-c661-28aaca12833c"
      },
      "outputs": [
        {
          "output_type": "stream",
          "name": "stdout",
          "text": [
            "f(z) = (1.5 - 1.5*sqrt(1 - 4*z))/(1 - 4*z)\n",
            "First 10 terms of f: \n",
            "3.0*z + 15.0*z**2 + 66.0*z**3 + 279.0*z**4 + 1158.0*z**5 + 4758.0*z**6 + 19428.0*z**7 + 78999.0*z**8 + 320286.0*z**9 + O(z**10)\n",
            "coefficient of z**54 = [z^54] f = 4.49491153750334E+32\n",
            "\n",
            "f(z) = (1 - sqrt(1 - 4*z))/(2*z)\n",
            "First 10 terms of f: \n",
            "1 + z + 2*z**2 + 5*z**3 + 14*z**4 + 42*z**5 + 132*z**6 + 429*z**7 + 1430*z**8 + 4862*z**9 + O(z**10)\n",
            "coefficient of z**54 = [z^54] f = 451959718027953471447609509424\n",
            "\n",
            "Average path length to an external node in a random binary tree with 55 external nodes = 18.082510688084785\n",
            "\n",
            "f(z) = z*(z + 3)/(-z**2 - z + 1)**2\n",
            "First 10 terms of f: \n",
            "3*z + 7*z**2 + 17*z**3 + 35*z**4 + 70*z**5 + 134*z**6 + 251*z**7 + 461*z**8 + 835*z**9 + O(z**10)\n",
            "coefficient of z**8 = [z^8] f = 461\n",
            "\n",
            "Average path length to an external node in a fibonacci tree with 55 external nodes = 8.381818181818181\n"
          ]
        }
      ],
      "source": [
        "import sympy as sympy\n",
        "\n",
        "z = sympy.symbols('z')\n",
        "\n",
        "def seq(f, N):\n",
        "    L = sympy.series(f, z, 0, 10, '+')\n",
        "    print(f'f(z) = {f}')\n",
        "    print(f'First {10} terms of f: ')\n",
        "    print(L)\n",
        "    L = sympy.series(f, z, 0, N+1, '+')\n",
        "    L = L.removeO()\n",
        "    coef = L.coeff(z**N)\n",
        "    print(f'coefficient of z**{N} = [z^{N}] f = {coef}\\n')\n",
        "    return int(coef)\n",
        "\n",
        "# total xpl for 1-2 trees with n internal nodes\n",
        "q = 1.5 * (1-sympy.sqrt(1-4*z)) / (1-4*z)\n",
        "num = seq(q, 54)\n",
        "\n",
        "# total num binary trees with n internal nodes\n",
        "t = (1 - sympy.sqrt(1-4*z)) / (2*z)\n",
        "den = seq(t, 54)\n",
        "\n",
        "print(f'Average path length to an external node in a random binary tree with 55 external nodes = {num / den / 55}\\n')\n",
        "\n",
        "# xpl for fibonacci trees with F_{n+2} (of the 0-indexed fibonacci sequence) external nodes\n",
        "g = z*(3+z) / (1-z-z**2)**2\n",
        "xpl = seq(g, 8)\n",
        "\n",
        "print(f'Average path length to an external node in a fibonacci tree with 55 external nodes = {xpl / 55}')"
      ]
    }
  ]
}