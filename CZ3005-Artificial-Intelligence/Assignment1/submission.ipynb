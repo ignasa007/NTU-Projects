{
  "cells": [
    {
      "cell_type": "markdown",
      "metadata": {
        "id": "5s2ZPN34Vna_"
      },
      "source": [
        "# Introduction\n",
        "\n",
        "The **Q-learning algorithm** assumes a discrete observation space. Hence, to solve the Cart-Pole environment using simple Q-learning, for each of the attributes of an agent's state,\n",
        "\n",
        "1. cart position, \n",
        "2. cart velocity, \n",
        "3. pole angle, and \n",
        "4. pole angular velocity,\n",
        "\n",
        "the continuous state values need to be discretized into a fixed number of buckets. For example, with bucket sizes $(1, 1, 6, 3)$ for the $4$-dimensional observation space and a $2$-dimensional action space, the dimensions of the $\\text{Q-table}$ are $1\\times 1\\times 6\\times 3\\times 2$.\n",
        "\n",
        "Q-learning suffers from the curse-of-dimensionality as it requires discrete states to form the $\\text{Q-table}$. The computational complexity of the algorithm increases exponentially with increasing number of buckets and the dimension of the action space. **Deep Q-learning** solves this problem by approximating the Q-value function $Q(s, a)$ with an artificial neural network, called a **Deep Q-network (DQN)** [1]. "
      ]
    },
    {
      "attachments": {},
      "cell_type": "markdown",
      "metadata": {
        "id": "PEmbcZfQZQRW"
      },
      "source": [
        "# Imports"
      ]
    },
    {
      "cell_type": "code",
      "execution_count": 1,
      "metadata": {},
      "outputs": [],
      "source": [
        "import os, glob, shutil\n",
        "import warnings; warnings.filterwarnings(\"ignore\")\n",
        "from tqdm import tqdm\n",
        "from time import time"
      ]
    },
    {
      "attachments": {},
      "cell_type": "markdown",
      "metadata": {},
      "source": [
        "**NumPy**: NumPy adds support for large, multi-dimensional arrays and matrices, along with a collection of mathematical functions to operate on these arrays. Gym returns the agent's state as a numpy.ndarray. [2]\n",
        "\n",
        "**Matplotlib**: Matplotlib is a comprehensive library for creating static, animated, and interactive visualizations. [3]\n",
        "\n",
        "**TensorFlow**: TensorFlow is a library with a particular focus on training and inference of deep neural networks. We use it to create and train the DQN. [4]\n",
        "\n",
        "**Keras**: Keras is based on minimal structure that provides a clean and easy way to create deep learning models based on TensorFlow.\n",
        "\n",
        "**Gym**: Gym is a standard API for reinforcement learning, and a diverse collection of reference environments. We use it to create the Cart-Pole environment. [5]"
      ]
    },
    {
      "cell_type": "code",
      "execution_count": 2,
      "metadata": {
        "id": "1vaI_pmHr5-X"
      },
      "outputs": [
        {
          "name": "stderr",
          "output_type": "stream",
          "text": [
            "c:\\Users\\Jasraj\\anaconda3\\lib\\site-packages\\matplotlib\\__init__.py:169: DeprecationWarning: distutils Version classes are deprecated. Use packaging.version instead.\n",
            "  if LooseVersion(module.__version__) < minver:\n",
            "c:\\Users\\Jasraj\\anaconda3\\lib\\site-packages\\setuptools\\_distutils\\version.py:345: DeprecationWarning: distutils Version classes are deprecated. Use packaging.version instead.\n",
            "  other = LooseVersion(other)\n"
          ]
        }
      ],
      "source": [
        "import numpy as np\n",
        "import tensorflow as tf\n",
        "from keras.models import Sequential, load_model\n",
        "from keras.layers import Dense\n",
        "from keras.optimizers import Adam\n",
        "import gym; gym.logger.set_level(40)\n",
        "from gym.wrappers import RecordVideo\n",
        "from IPython.display import display, Video\n",
        "import matplotlib.pyplot as plt\n",
        "%matplotlib inline"
      ]
    },
    {
      "cell_type": "code",
      "execution_count": 3,
      "metadata": {},
      "outputs": [],
      "source": [
        "def show_video():\n",
        "    mp4list = glob.glob(\"video/*.mp4\")\n",
        "    if len(mp4list) > 0:\n",
        "        display(Video(filename=mp4list[0]))\n",
        "    else: \n",
        "        print(\"Could not find video\")"
      ]
    },
    {
      "cell_type": "markdown",
      "metadata": {
        "id": "L_lCHN4UcaYY"
      },
      "source": [
        "# GPU Setup\n",
        "We check if a GPU is available and set the device accordingly - GPU, if it is available, else CPU. "
      ]
    },
    {
      "cell_type": "code",
      "execution_count": 4,
      "metadata": {
        "id": "_uRJ93LesSlD"
      },
      "outputs": [
        {
          "data": {
            "text/plain": [
              "'/CPU:0'"
            ]
          },
          "execution_count": 4,
          "metadata": {},
          "output_type": "execute_result"
        }
      ],
      "source": [
        "device = \"/device:GPU:0\" if tf.config.list_physical_devices(\"GPU\") else \"/CPU:0\"\n",
        "device"
      ]
    },
    {
      "cell_type": "markdown",
      "metadata": {
        "id": "Z-Mv9HgOcrXG"
      },
      "source": [
        "# Deep Q-Network\n",
        "\n",
        "We define the DQN as a multilayer perceptron with ReLU activation for the hidden layers. It takes $4$ inputs (dimension of the observation space), and returns a $2$-dimensional output corresponding to the estimated Q-values for each of the $2$ states."
      ]
    },
    {
      "cell_type": "code",
      "execution_count": 5,
      "metadata": {
        "id": "LKlVtLGqr5-e"
      },
      "outputs": [],
      "source": [
        "class Model(Sequential):\n",
        "\n",
        "    '''\n",
        "    neural network used by our agent to estimate Q-values. \n",
        "    '''\n",
        "\n",
        "    def __init__(self, name, in_dim, h_dims, out_dim, batch_size, lr):\n",
        "\n",
        "        '''\n",
        "        initialize the network.\n",
        "        params:\n",
        "            name: name given to the neural network.\n",
        "            in_dim: dimension of the neural network input.\n",
        "            h_dims: list of sizes of hidden layers in the network.\n",
        "            out_dim: dimension of the neural network output.\n",
        "            batch_size: batch size to train the neural network with.\n",
        "            lr: learning rate for Adam optimizer. \n",
        "        return: \n",
        "            neural network with weights initialized.\n",
        "        '''\n",
        "\n",
        "        # initialize the Sequential model class from keras.\n",
        "        super().__init__(name=name)\n",
        "        \n",
        "        # create the model with Adam optimizer.\n",
        "        self.add(Dense(h_dims[0], input_shape=(in_dim,), activation=\"relu\", name=\"hidden_layer_1\"))\n",
        "        for i, h_dim in enumerate(h_dims[1:], 2):\n",
        "            self.add(Dense(h_dim, activation=\"relu\", name=f\"hidden_layer_{i}\"))\n",
        "        self.add(Dense(out_dim, activation=\"linear\", name=\"output_layer\"))\n",
        "        self.compile(loss=\"mse\", optimizer=Adam(learning_rate=lr))\n",
        "        self.summary(); print()\n",
        "        \n",
        "        self.batch_size = batch_size"
      ]
    },
    {
      "attachments": {},
      "cell_type": "markdown",
      "metadata": {
        "id": "ewyWC7F2gsbM"
      },
      "source": [
        "# DQN Training\n",
        "\n",
        "The Q-network needs to be trained to estimate Q-values for a given state and action pair. This is done by minimizing the Mean-Square Error (MSE) loss function,\n",
        "\n",
        "$$\n",
        "L(\\theta_i) = \\mathbb{E}_{(s,a)\\sim P(s,a)}\\left[\\left(Q^*(s,a)-Q(s,a;\\theta_i)\\right)^2\\right]\n",
        "$$\n",
        "\n",
        "where the target Q-value $Q^*(s,a)$ for each iteration $i$ is given by\n",
        "\n",
        "$$\n",
        "Q^*(s,a) = \\mathbb{E}_{s'\\in S} \\left. \\left[ R(s,a) + \\gamma\\max_{a'}Q\\left(s',a';\\theta_{i-1}\\right) \\right| s,a \\right]\n",
        "$$\n",
        "\n",
        "where $R(s,a)$ is the reward for the current state-action pair $(s,a)$ obtained from the environment, $\\gamma$ is the discount factor as in the Bellman equation, and $Q\\left(s',a';\\theta_{i−1}\\right)$ is the Q-value for the next state obtained using the Q-network weights from the previous iteration.\n",
        "\n",
        "## Experience Replay\n",
        "\n",
        "In incremental update, the network learns from one sample at a time, whereas in batch update, the network weights are updated by back-propogating the averaged loss from a fixed number of samples, called a mini-batch. It has been shown that the network trains faster with a batch update rather than with an incremental weight update method. \n",
        "\n",
        "In experience replay, a random sample of past experiences of the agent is used for training the Q-network. Once a sufficient number of entries are stored in the replay memory, we can train the DQN using a randomly selected batch of samples. The exploration rate, $\\epsilon$, is reduced by a factor after each iteration of training."
      ]
    },
    {
      "cell_type": "code",
      "execution_count": 6,
      "metadata": {
        "id": "5ISz2770r5-h"
      },
      "outputs": [],
      "source": [
        "class DQNAgent:\n",
        "\n",
        "    '''\n",
        "    DQN agent used to solve the Cart-Pole environment.\n",
        "    '''\n",
        "\n",
        "    def __init__(self, action_space, gamma, epsilon_max, epsilon_decay, epsilon_min, model, memory_size):\n",
        "\n",
        "        '''\n",
        "        initialize the agent.\n",
        "        params:\n",
        "            action_space: action space for the agent, as returned by the environment.\n",
        "            gamma: discount factor, as defined in the Bellman equation.\n",
        "            epsilon_max: starting value of the exploration rate for the agent.\n",
        "                         this is the rate at which the agent picks a random action.\n",
        "            epsilon_decay: factor used to update exploration rate after each round of training. \n",
        "            epsilon_min: minimum exploration rate for the agent.\n",
        "            model: DQN used to estimate the Q-values.\n",
        "            memory_size: capacity (in terms of number of experiences) of the replay memory.\n",
        "        return:\n",
        "            initialized agent with no memory.\n",
        "        '''\n",
        "\n",
        "        self.action_space = action_space\n",
        "        self.model = model\n",
        "\n",
        "        self.gamma = gamma\n",
        "        self.eps = epsilon_max\n",
        "        self.eps_decay = epsilon_decay\n",
        "        self.eps_min = epsilon_min\n",
        "\n",
        "        self.memory_size = memory_size\n",
        "\n",
        "        # create a memory as a map, where the values are initialized as None, but updated as numpy arrays. \n",
        "        self.memory = {\n",
        "            \"states\": None,\n",
        "            \"actions\": None,\n",
        "            \"rewards\": None,\n",
        "            \"observations\": None,\n",
        "            \"dones\": None,\n",
        "        }\n",
        "\n",
        "\n",
        "    def remember(self, state, action, reward, observation, done):\n",
        "\n",
        "        '''\n",
        "        add an experience to the memory.\n",
        "        params:\n",
        "            state: state, s, from which the action was performed.\n",
        "            action: action, a, that was performed.\n",
        "            reward: reward, R(a,s), received from the environment.\n",
        "            observation: new state, s', as returned by the environment.\n",
        "            done: boolean value indicating if the episode was terminated after this step.\n",
        "        '''\n",
        "\n",
        "        # function to update the memory elements with the new experience.\n",
        "        def update_memory(key, value):\n",
        "            if self.memory[key] is None:\n",
        "                self.memory[key] = value\n",
        "            else:\n",
        "                self.memory[key] = np.concatenate((value, self.memory[key]))[:self.memory_size]\n",
        "\n",
        "        # update the different elements with the new experience.\n",
        "        update_memory(\"states\", state.reshape(1, -1))\n",
        "        update_memory(\"actions\", np.array((action,)).astype(np.int8))\n",
        "        update_memory(\"rewards\", np.array((reward,)))\n",
        "        update_memory(\"observations\", observation.reshape(1, -1))\n",
        "        update_memory(\"dones\", np.array((done,)))\n",
        "\n",
        "\n",
        "    def act(self, state):\n",
        "\n",
        "        '''\n",
        "        explore with probability given by exploration rate, else execute the \n",
        "        action with the maximum Q-value as estimated by the neural network.\n",
        "        params:\n",
        "            state: states, s, in which the agent currently is.\n",
        "        return:\n",
        "            the action, a, the agent should take predicted using the Q-values estimated by the network. \n",
        "        '''\n",
        "\n",
        "        # with probability equal to exploration rate, choose a random action.\n",
        "        if np.random.rand() < self.eps:\n",
        "            return self.action_space.sample()\n",
        "        else:\n",
        "            # else choose the action with the highest Q-value.\n",
        "            with tf.device(device):\n",
        "                return np.argmax(self.model.predict(state.reshape(1, -1), verbose=0)[0])\n",
        "\n",
        "\n",
        "    def replay(self):\n",
        "\n",
        "        '''\n",
        "        replay from the memory and update the network weights.\n",
        "        '''\n",
        "\n",
        "        # if memory does not have enough experiences to form a batch, return.\n",
        "        if self.model.batch_size > self.memory[\"states\"].shape[0]:\n",
        "            return\n",
        "\n",
        "        # pick a random set of indices.\n",
        "        mini_batch = np.random.choice(self.memory[\"states\"].shape[0], self.model.batch_size, replace=False)\n",
        "\n",
        "        # retrieve memory elements.\n",
        "        states = self.memory[\"states\"][mini_batch]\n",
        "        actions = self.memory[\"actions\"][mini_batch]\n",
        "        rewards = self.memory[\"rewards\"][mini_batch]\n",
        "        observations = self.memory[\"observations\"][mini_batch]\n",
        "        dones = self.memory[\"dones\"][mini_batch]\n",
        "\n",
        "        # calculate the predicted Q-values of the current state and the next state.\n",
        "        with tf.device(device):\n",
        "            targets = self.model.predict(states, verbose=0)\n",
        "            obs_preds = self.model.predict(observations, verbose=0)\n",
        "\n",
        "        # calculate the TD-target value.\n",
        "        td_targets = rewards + (1-dones)*self.gamma*np.amax(obs_preds, axis=1)\n",
        "        for i, (action, td_target) in enumerate(zip(actions, td_targets)):\n",
        "            targets[i, action] = td_target\n",
        "\n",
        "        # update the network weights.\n",
        "        with tf.device(device):\n",
        "            self.model.fit(states, targets, batch_size=self.model.batch_size, verbose=0)\n",
        "\n",
        "        # update the exploration rate.\n",
        "        self.eps = max(self.eps*self.eps_decay, self.eps_min)"
      ]
    },
    {
      "cell_type": "markdown",
      "metadata": {
        "id": "TMU0LR-GTV-A"
      },
      "source": [
        "# Training\n",
        "\n",
        "We train the agent until the average over a certain number of most recent episodes exceeds a threshold value. In each episode, we first initialize the environment randomly, and then sequentially take actions based on the states we are in. After each step, we add the experience to the memory and update the weights of the DQN."
      ]
    },
    {
      "cell_type": "code",
      "execution_count": 7,
      "metadata": {
        "id": "8uF4uEufr5-k"
      },
      "outputs": [],
      "source": [
        "def train(env, agent, threshold, avg_over, print_every):\n",
        "\n",
        "    '''\n",
        "    function to train the agent.\n",
        "    params:\n",
        "        env: Cart-Pole environment as given by gym.\n",
        "        agent: our deep Q-learning agent.\n",
        "        threshold: average reward before terminating the training.\n",
        "        avg_over: number of episodes to calculate the average over.\n",
        "        print_every: print the episode results after these number of steps.\n",
        "    return:\n",
        "        a list of rewards from each episode.\n",
        "    '''\n",
        "\n",
        "    # initialize an array to collect results and set episode number to 0.\n",
        "    results, episode, start_time = list(), 0, time()\n",
        "\n",
        "    # iterate until the average reward is at least the threshold value. \n",
        "    while not results or np.mean(results[-avg_over:]) <= threshold:\n",
        "\n",
        "        # update episode number and initialize the environment.\n",
        "        episode += 1\n",
        "        state = np.reshape(env.reset(), (1, -1))\n",
        "        # initialize the number of steps in the episode to 0.\n",
        "        steps, done = 0, False\n",
        "            \n",
        "        # iterate until the episode terminates. \n",
        "        while not done:\n",
        "\n",
        "            # update the number of steps.\n",
        "            steps += 1\n",
        "            # choose an action to perform.\n",
        "            action = agent.act(state)\n",
        "            # get the new state, reward and termination info from the environment.\n",
        "            observation, reward, done, *_ = env.step(action)\n",
        "            reward = reward if not done else -reward\n",
        "\n",
        "            # add the experience to the memory.\n",
        "            agent.remember(state, action, reward, observation, done)\n",
        "            state = observation.copy()\n",
        "            # update the network weights.\n",
        "            agent.replay()\n",
        "\n",
        "        # add the result to the results array.\n",
        "        results.append(steps)\n",
        "        end_time = time() - start_time\n",
        "\n",
        "        # print the result if required.\n",
        "        if episode%print_every == 0:\n",
        "            print(f\"Episode {episode:3.0f}\" + \\\n",
        "                  f\": {np.mean(results[-avg_over:]):6.2f} steps (averaged over last {min(len(results), avg_over):2.0f} episodes)\" + \\\n",
        "                  f\", {end_time//60:2.0f}m {end_time%60:5.2f}s (total running time)\"\n",
        "            )\n",
        "\n",
        "    # print the result of the last episode before training stops.\n",
        "    end_time = time() - start_time\n",
        "    print(\"\\nTraining terminated\")\n",
        "    print(f\"Episode {episode:3.0f}\" + \\\n",
        "          f\": {np.mean(results[-avg_over:]):6.2f} steps (averaged over last {min(len(results), avg_over):2.0f} episodes)\" + \\\n",
        "          f\", {end_time//60:2.0f}m {end_time%60:5.2f}s (total running time)\"\n",
        "    )\n",
        "    \n",
        "    return results"
      ]
    },
    {
      "cell_type": "markdown",
      "metadata": {
        "id": "8sBvUgtCWm2U"
      },
      "source": [
        "# Configurations\n",
        "\n",
        "Here, we define the configurations for the training. Feel free to play around with these values. We pick most hyperparameters as in the original paper on DQN [1]."
      ]
    },
    {
      "cell_type": "code",
      "execution_count": 8,
      "metadata": {
        "id": "j4PPrW6jr5-m"
      },
      "outputs": [],
      "source": [
        "ENV_NAME = \"CartPole-v1\"\n",
        "\n",
        "# training hyperparams.\n",
        "HIDDEN_LAYER_SIZE = 32\n",
        "N_HIDDEN_LAYERS = 2\n",
        "BATCH_SIZE = 32\n",
        "LEARNING_RATE = 0.001\n",
        "\n",
        "# Q-learning hyperparams. we decay the exploration rate at a linear rate.\n",
        "GAMMA = 0.95\n",
        "EPSILON_MAX = 1.0\n",
        "EPSILON_DECAY = 0.995\n",
        "EPSILON_MIN = 0.01\n",
        "MEMORY_SIZE = 1_000\n",
        "\n",
        "# termination condition hyperparams.\n",
        "# we average over last 50 runs, instead of 100, to (reliably) relax the termination condition.\n",
        "# to compensate for this relaxation, and for higher robustness to noise, we increase the avg reward for terminating from 195 to 225. \n",
        "AVG_OVER = 50\n",
        "AVG_REWARD_FOR_TERMINATION = 225\n",
        "\n",
        "# make the Cart-Pole environment.\n",
        "env = gym.make(\n",
        "    id=ENV_NAME\n",
        ")\n",
        "\n",
        "# path for saving the DQN.\n",
        "save_dir = \"CartPoleDQN\""
      ]
    },
    {
      "cell_type": "markdown",
      "metadata": {
        "id": "Ksc7oePOaWjs"
      },
      "source": [
        "# Train the Agent\n",
        "\n",
        "We train the agent and plot how the reward evolved over multiple episodes."
      ]
    },
    {
      "cell_type": "code",
      "execution_count": 9,
      "metadata": {
        "id": "4Z0jQimiaYt4"
      },
      "outputs": [
        {
          "name": "stdout",
          "output_type": "stream",
          "text": [
            "Model: \"CartPoleDQN\"\n",
            "_________________________________________________________________\n",
            " Layer (type)                Output Shape              Param #   \n",
            "=================================================================\n",
            " hidden_layer_1 (Dense)      (None, 32)                160       \n",
            "                                                                 \n",
            " hidden_layer_2 (Dense)      (None, 32)                1056      \n",
            "                                                                 \n",
            " output_layer (Dense)        (None, 2)                 66        \n",
            "                                                                 \n",
            "=================================================================\n",
            "Total params: 1,282\n",
            "Trainable params: 1,282\n",
            "Non-trainable params: 0\n",
            "_________________________________________________________________\n",
            "\n",
            "Episode  10:  20.30 steps (averaged over last 10 episodes),  1m 20.07s (total running time)\n",
            "Episode  20:  15.40 steps (averaged over last 20 episodes),  2m 20.25s (total running time)\n",
            "Episode  30:  22.13 steps (averaged over last 30 episodes),  5m 21.83s (total running time)\n",
            "Episode  40:  35.27 steps (averaged over last 40 episodes), 12m 21.37s (total running time)\n",
            "Episode  50:  40.66 steps (averaged over last 50 episodes), 17m 41.31s (total running time)\n",
            "Episode  60:  46.98 steps (averaged over last 50 episodes), 22m 15.42s (total running time)\n",
            "Episode  70:  66.02 steps (averaged over last 50 episodes), 31m 36.14s (total running time)\n",
            "Episode  80:  95.24 steps (averaged over last 50 episodes), 52m  3.65s (total running time)\n",
            "Episode  90: 144.56 steps (averaged over last 50 episodes), 78m 42.55s (total running time)\n",
            "Episode 100: 178.26 steps (averaged over last 50 episodes), 86m 44.13s (total running time)\n",
            "Episode 110: 211.20 steps (averaged over last 50 episodes), 94m  7.61s (total running time)\n",
            "\n",
            "Training terminated\n",
            "Episode 117: 225.48 steps (averaged over last 50 episodes), 98m 30.57s (total running time)\n"
          ]
        }
      ],
      "source": [
        "# initialize the DQN.\n",
        "model = Model(\n",
        "    name=\"CartPoleDQN\", \n",
        "    in_dim=env.observation_space.shape[0],\n",
        "    h_dims=[HIDDEN_LAYER_SIZE]*N_HIDDEN_LAYERS,\n",
        "    out_dim=env.action_space.n,\n",
        "    batch_size=BATCH_SIZE,\n",
        "    lr=LEARNING_RATE,\n",
        ")\n",
        "\n",
        "# intialize the deep Q-learning agent.\n",
        "agent = DQNAgent( \n",
        "    action_space=env.action_space,\n",
        "    gamma=GAMMA,\n",
        "    epsilon_max=EPSILON_MAX,\n",
        "    epsilon_decay=EPSILON_DECAY,\n",
        "    epsilon_min=EPSILON_MIN,\n",
        "    model=model,\n",
        "    memory_size=MEMORY_SIZE,\n",
        ")\n",
        "\n",
        "# train the agent and collect results.\n",
        "results = train(\n",
        "    env=env, \n",
        "    agent=agent,\n",
        "    threshold=AVG_REWARD_FOR_TERMINATION,\n",
        "    avg_over=AVG_OVER,\n",
        "    print_every=10,\n",
        ")"
      ]
    },
    {
      "cell_type": "markdown",
      "metadata": {
        "id": "5Zm7GzIYYbiE"
      },
      "source": [
        "# Save the DQN Weights\n",
        "\n",
        "To avoid retraining the DQN again and again, we save the weights and can initialize the agent using it."
      ]
    },
    {
      "cell_type": "code",
      "execution_count": 10,
      "metadata": {
        "id": "ZdtyeA9UYsJZ"
      },
      "outputs": [
        {
          "name": "stdout",
          "output_type": "stream",
          "text": [
            "INFO:tensorflow:Assets written to: CartPoleDQN\\assets\n"
          ]
        }
      ],
      "source": [
        "# if the model weights had been previously saved, delete them.\n",
        "if os.path.isdir(save_dir):\n",
        "    shutil.rmtree(save_dir)\n",
        "\n",
        "# save the weights.\n",
        "agent.model.save(save_dir)"
      ]
    },
    {
      "cell_type": "markdown",
      "metadata": {
        "id": "faCUD-1UYsog"
      },
      "source": [
        "# Load the DQN Weights\n",
        "\n",
        "Here, we load the weights back into the DQN, and re-initialize the agent. Note that here we initialize the exploration rate as its minimum possible value assuming that the DQN weights were saved when this minimum was reached. "
      ]
    },
    {
      "cell_type": "code",
      "execution_count": 11,
      "metadata": {
        "id": "HaoNTSTAZoe_"
      },
      "outputs": [],
      "source": [
        "# load the DQN.\n",
        "model = load_model(save_dir)\n",
        "\n",
        "# initialize the agent with this DQN.\n",
        "agent = DQNAgent( \n",
        "    action_space=env.action_space,\n",
        "    gamma=GAMMA,\n",
        "    epsilon_max=EPSILON_MIN,\n",
        "    epsilon_decay=EPSILON_DECAY,\n",
        "    epsilon_min=EPSILON_MIN,\n",
        "    model=model,\n",
        "    memory_size=MEMORY_SIZE,\n",
        ")"
      ]
    },
    {
      "cell_type": "markdown",
      "metadata": {
        "id": "fAxNNIXLYROS"
      },
      "source": [
        "# Task 1\n",
        "\n",
        "For Task 1, we can show the observation and chosen action below:"
      ]
    },
    {
      "cell_type": "code",
      "execution_count": 12,
      "metadata": {
        "id": "Eer3UL0xYW6W"
      },
      "outputs": [
        {
          "name": "stdout",
          "output_type": "stream",
          "text": [
            "Observation: [-0.03313689  0.00261254  0.02385543 -0.03744387]\n",
            "Chosen action: 1\n"
          ]
        }
      ],
      "source": [
        "observation = env.reset()\n",
        "action = agent.act(observation)\n",
        "print(f\"Observation: {observation}\")\n",
        "print(f\"Chosen action: {action}\")"
      ]
    },
    {
      "attachments": {},
      "cell_type": "markdown",
      "metadata": {},
      "source": [
        "In this example, we have,\n",
        "$$ \\begin{align*}\n",
        "    \\text{cart position} &=& -&0.03313689 \\\\\n",
        "    \\text{cart velocity} &=& &0.00261254 \\\\\n",
        "    \\text{pole angle} &=& &0.02385543 \\\\\n",
        "    \\text{pole angular velocity} &=& -&0.03744387\n",
        "\\end{align*} $$\n",
        "\n",
        "The action chose by our agent is $1$, or, to move right."
      ]
    },
    {
      "attachments": {},
      "cell_type": "markdown",
      "metadata": {
        "id": "HS6exC6qbIJ1"
      },
      "source": [
        "# Task 2: Demonstrate the effectiveness of the RL agent\n",
        "\n",
        "For this task, we use the agent developed in Task 1 to play the game for $100$ episodes. We record the cumulative reward for each round, and plot it."
      ]
    },
    {
      "cell_type": "code",
      "execution_count": 13,
      "metadata": {
        "id": "6G5sNt3gbVYe"
      },
      "outputs": [
        {
          "name": "stderr",
          "output_type": "stream",
          "text": [
            "100%|██████████| 100/100 [46:28<00:00, 27.89s/it]\n"
          ]
        }
      ],
      "source": [
        "xs, ys = list(), list()\n",
        "for episode in tqdm(range(1, 101)):\n",
        "    state = env.reset()\n",
        "    steps, done = 0, False    \n",
        "    while not done:\n",
        "        steps += 1\n",
        "        action = agent.act(state)\n",
        "        state, _, done, *_ = env.step(action)\n",
        "    xs.append(episode); ys.append(steps)"
      ]
    },
    {
      "cell_type": "code",
      "execution_count": 14,
      "metadata": {},
      "outputs": [
        {
          "data": {
            "image/png": "[encoded data removed]",
            "text/plain": [
              "<Figure size 640x480 with 1 Axes>"
            ]
          },
          "metadata": {},
          "output_type": "display_data"
        }
      ],
      "source": [
        "avg_reward = np.mean(ys)\n",
        "\n",
        "FONTDICT = {\n",
        "    \"family\": \"serif\", \n",
        "    \"color\" : \"darkred\", \n",
        "    \"weight\": \"normal\", \n",
        "    \"size\"  : 12,\n",
        "}\n",
        "\n",
        "plt.scatter(xs, ys, color=\"blue\", s=10, label=\"Accumulated Rewards\")\n",
        "plt.hlines(avg_reward, 1, len(xs), linestyles=\"dotted\", color=\"green\", label=f\"Average Reward = {avg_reward:.2f}\")\n",
        "plt.hlines(195, 1, len(xs), linestyles=\"dotted\", color=\"red\", label=\"Baseline = 195\")\n",
        "plt.xlabel(\"Episode\", fontdict=FONTDICT, labelpad=12)\n",
        "plt.ylabel(\"Reward\",  fontdict=FONTDICT, labelpad=12)\n",
        "plt.grid()\n",
        "plt.legend(loc=\"center left\", bbox_to_anchor=(1, 0.5))\n",
        "plt.show()"
      ]
    },
    {
      "attachments": {},
      "cell_type": "markdown",
      "metadata": {},
      "source": [
        "Clearly, the agent's average reward is well beyond $195$. In this sequence of $100$ runs, for example, the average reward is $352.02$. Interestingly, the agent receives the maximum reward for a lot of episodes (indicaed by points with $y=500$)."
      ]
    },
    {
      "attachments": {},
      "cell_type": "markdown",
      "metadata": {
        "id": "wFq0924XeQxD"
      },
      "source": [
        "# Task 3: Render one episode played by the agent"
      ]
    },
    {
      "cell_type": "code",
      "execution_count": 15,
      "metadata": {
        "id": "-zjMlSMCeWnd"
      },
      "outputs": [
        {
          "data": {
            "text/html": [
              "<video src=\"video\\rl-video-episode-0.mp4\" controls  >\n",
              "      Your browser does not support the <code>video</code> element.\n",
              "    </video>"
            ],
            "text/plain": [
              "<IPython.core.display.Video object>"
            ]
          },
          "metadata": {},
          "output_type": "display_data"
        }
      ],
      "source": [
        "env = RecordVideo(gym.make(\"CartPole-v1\"), \"./video\")\n",
        "observation = env.reset()\n",
        "while True:\n",
        "    env.render()\n",
        "    action = agent.act(observation)\n",
        "    observation, reward, done, info = env.step(action) \n",
        "    if done: \n",
        "      break;    \n",
        "env.close()\n",
        "show_video()"
      ]
    },
    {
      "attachments": {},
      "cell_type": "markdown",
      "metadata": {},
      "source": [
        "Here, we see that the agent finds it hard to stay in the middle of the frame, but when it approaches the frame, it tries very hard to avoid going past it. My analysis (based on multiple replays) shows that the agent has learnt well to balance the pole, but has a hard time staying within the bounds of the frame."
      ]
    },
    {
      "cell_type": "markdown",
      "metadata": {
        "id": "wmD9hWegEwAm"
      },
      "source": [
        "# References\n",
        "\n",
        "**[1]** Mnih, V., Kavukcuoglu, K., Silver, D., Graves, A., Antonoglou, I., Wierstra, D., & Riedmiller, M. A. (2013). Playing Atari with Deep Reinforcement Learning. CoRR, abs/1312.5602. Retrieved from http://arxiv.org/abs/1312.5602.\n",
        "\n",
        "**[2]** Harris, C. R., Millman, K. J., van der Walt, S. J., Gommers, R., Virtanen, P., Cournapeau, D., Wieser, E., Taylor, J., Berg, S., Smith, N. J., Kern, R., Picus, M., Hoyer, S., van Kerkwijk, M. H., Brett, M., Haldane, A., Fernández del Río, J., Wiebe, M., Peterson, P., Gérard-Marchant, P., Sheppard, K., Reddy, T., Weckesser, W., Abbasi, H., Gohlke, C., & Oliphant, T. E. (2020). Array programming with NumPy. Nature 585, 357–362 (2020). DOI: 10.1038/s41586-020-2649-2.\n",
        "\n",
        "**[3]** Hunter, J. D. (2007). Matplotlib: A 2D graphics environment. Computing in Science & Engineering, 9(3), 90–95. DOI: 10.1109/MCSE.2007.55\n",
        "\n",
        "**[4]** Abadi, M., Agarwal, A., Barham, P., Brevdo, E., Chen, Z., Citro, C., Corrado, G. S., Davis, A., Dean, J., Devin, M., Ghemawat, S., Goodfellow, I., \n",
        "Harp, A., Irving, G., Isard, M., Jia, Y., Jozefowicz, R., Kaiser, L., Kudlur, M., Levenberg, J., Mane, D., Monga, R., Moore, S., Murray, D., Olah, C., Schuster, M., Shlens, J., Steiner, B., Sutskever, I., Talwar, K., Tucker, P., Vanhoucke, V., Vasudevan, V., Viegas, F., Vinyals, O., Warden, P., \n",
        "Wattenberg, M., Wicke, M., Yu, Y., & Zheng, X. (2015). TensorFlow: Large-Scale Machine Learning on Heterogeneous Systems. Retrieved from https://www.tensorflow.org/.\n",
        "\n",
        "**[5]** Brockman, G., Cheung, V., Pettersson, L., Schneider, J., Schulman, J., Tang, J., & Zaremba, W. (2016). OpenAI Gym. CoRR, abs/1606.01540. Retrieved from http://arxiv.org/abs/1606.01540."
      ]
    }
  ],
  "metadata": {
    "colab": {
      "provenance": []
    },
    "gpuClass": "standard",
    "kernelspec": {
      "display_name": "base",
      "language": "python",
      "name": "python3"
    },
    "language_info": {
      "codemirror_mode": {
        "name": "ipython",
        "version": 3
      },
      "file_extension": ".py",
      "mimetype": "text/x-python",
      "name": "python",
      "nbconvert_exporter": "python",
      "pygments_lexer": "ipython3",
      "version": "3.8.8"
    },
    "orig_nbformat": 4
  },
  "nbformat": 4,
  "nbformat_minor": 0
}
